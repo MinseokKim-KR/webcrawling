{
 "cells": [
  {
   "cell_type": "markdown",
   "source": [
    "# naver financial"
   ],
   "metadata": {
    "collapsed": false
   },
   "id": "e9a6f6c3eb018182"
  },
  {
   "cell_type": "code",
   "outputs": [],
   "source": [
    "# Get all items using scroll down"
   ],
   "metadata": {
    "collapsed": false
   },
   "id": "ebf2307384eed1f3"
  },
  {
   "cell_type": "code",
   "execution_count": null,
   "id": "initial_id",
   "metadata": {
    "collapsed": true
   },
   "outputs": [],
   "source": [
    "from selenium import webdriver\n",
    "from selenium.webdriver.common.by import By\n",
    "from selenium.webdriver.common.keys import Keys\n",
    "driver = webdriver.Chrome()\n",
    "url='https://new.land.naver.com/complexes/107439?ms=37.4841875,126.9615556,16&a=APT:ABYG:JGC:PRE&b=B1:A1&e=RETAIL&j=10&k=4'\n",
    "driver.get(url)\n",
    "box_element = driver.find_element(By.XPATH, '/html/body/div[2]/div/section/div[2]/div[1]/div/div[2]/div[2]/div')"
   ]
  },
  {
   "cell_type": "code",
   "outputs": [],
   "source": [
    "# Scroll down\n",
    "from selenium.webdriver import ActionChains\n",
    "action = ActionChains(driver)\n",
    "action.key_down(Keys.END,box_element).perform()  \n",
    "# action.context_click(box_element).perform()  # 우클릭\n",
    "box_element = driver.find_element(By.XPATH, '/html/body/div[2]/div/section/div[2]/div[1]/div/div[2]/div[2]/div')"
   ],
   "metadata": {
    "collapsed": false
   },
   "id": "5d5bd753d891aac9"
  },
  {
   "cell_type": "code",
   "outputs": [],
   "source": [
    "result = box_element.text.split('.\\n')"
   ],
   "metadata": {
    "collapsed": false
   },
   "id": "86e9c51bf3539e67"
  },
  {
   "cell_type": "code",
   "outputs": [],
   "source": [],
   "metadata": {
    "collapsed": false
   },
   "id": "54972be3ceaeb31"
  },
  {
   "cell_type": "code",
   "outputs": [],
   "source": [],
   "metadata": {
    "collapsed": false
   },
   "id": "e00f4a9544e64805"
  },
  {
   "cell_type": "code",
   "outputs": [],
   "source": [],
   "metadata": {
    "collapsed": false
   },
   "id": "1c5ab9c1d9d46ac6"
  },
  {
   "cell_type": "code",
   "outputs": [],
   "source": [],
   "metadata": {
    "collapsed": false
   },
   "id": "ea0fd9bf7d17f355"
  }
 ],
 "metadata": {
  "kernelspec": {
   "display_name": "Python 3",
   "language": "python",
   "name": "python3"
  },
  "language_info": {
   "codemirror_mode": {
    "name": "ipython",
    "version": 2
   },
   "file_extension": ".py",
   "mimetype": "text/x-python",
   "name": "python",
   "nbconvert_exporter": "python",
   "pygments_lexer": "ipython2",
   "version": "2.7.6"
  }
 },
 "nbformat": 4,
 "nbformat_minor": 5
}
